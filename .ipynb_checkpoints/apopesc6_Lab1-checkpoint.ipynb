{
 "cells": [
  {
   "cell_type": "markdown",
   "metadata": {},
   "source": [
    "# Grade: /100 points\n",
    "\n",
    "# Lab Assignment 01: Supervised learning, Linear models, and Loss functions\n",
    "\n",
    "In this Lab assignment, you're going to write your own methods to fit a linear model using either an OLS or LAD cost function.  \n",
    "\n",
    "## Data set \n",
    "\n",
    "For this assignment, we will examine some data representing possums in Australia and New Guinea. The data frame contains 46 observations on the following 6 variables:\n",
    "\n",
    "* sex: Sex, either m (male) or f (female).\n",
    "* age: Age in years.\n",
    "* headL: Head length, in mm.\n",
    "* skullW: Skull width, in mm.\n",
    "* totalL: Total length, in cm.\n",
    "* tailL: Tail length, in cm.\n",
    "\n",
    "## Follow These Steps before submitting\n",
    "Once you are finished, ensure to complete the following steps.\n",
    "\n",
    "1.  Restart your kernel by clicking 'Kernel' > 'Restart & Run All'.\n",
    "\n",
    "2.  Fix any errors which result from this.\n",
    "\n",
    "3.  Repeat steps 1. and 2. until your notebook runs without errors.\n",
    "\n",
    "4.  Submit your completed notebook to OWL by the deadline.\n",
    "\n",
    "\n",
    "## Preliminaries"
   ]
  },
  {
   "cell_type": "code",
   "execution_count": 4,
   "metadata": {},
   "outputs": [],
   "source": [
    "# Import all the necessary packages: \n",
    "import matplotlib.pyplot as plt \n",
    "import numpy as np\n",
    "import pandas as pd\n",
    "import scipy.stats as ss \n",
    "import scipy.optimize as so\n",
    "import statsmodels.api as sm\n",
    "import statsmodels.formula.api as smf\n",
    "\n",
    "%matplotlib inline"
   ]
  },
  {
   "cell_type": "markdown",
   "metadata": {},
   "source": [
    "\n",
    "## Part 1\n",
    "### Question 1.1:  /10 points\n",
    "\n",
    "\n",
    "Read in the `possum.csv` file as a `pandas.DataFrame`.  Investigate the relationship between the possum's age and it's tail length by plotting a scatter plot of the `age` and `tailL` columns. You might want to add an `alpha` in case some data are overlapping. "
   ]
  },
  {
   "cell_type": "code",
   "execution_count": 5,
   "metadata": {},
   "outputs": [
    {
     "data": {
      "text/plain": [
       "Text(0.5, 0, 'Age of Possums')"
      ]
     },
     "execution_count": 5,
     "metadata": {},
     "output_type": "execute_result"
    },
    {
     "data": {
      "image/png": "[encoded data removed]",
      "text/plain": [
       "<Figure size 660x440 with 1 Axes>"
      ]
     },
     "metadata": {
      "needs_background": "light"
     },
     "output_type": "display_data"
    }
   ],
   "source": [
    "# Read in the data with pandas\n",
    "possum_data = pd.read_csv('possum.csv')\n",
    "\n",
    "#figure returns figure layout, axis returns the axis, subplot function to create the figure and set the subplots\n",
    "figure,axis = plt.subplots(dpi = 110)\n",
    "#the string values for x and y are obtained from the csv file, and alpha is set to 0.8 because there is some overlapping data\n",
    "possum_data.plot.scatter(x='age', y='tailL',alpha = 0.8, ax = axis); #ax is to use the matplotlib object\n",
    "#names of the axis\n",
    "ax.set_ylabel('Tail Length of Possums')\n",
    "ax.set_xlabel('Age of Possums')"
   ]
  },
  {
   "cell_type": "markdown",
   "metadata": {},
   "source": [
    "### Question 1.2: /5 point\n",
    "\n",
    "Recall that the linear model, we obtain predictions by computing \n",
    "\n",
    "$$ \\hat{\\mathbf{y}} = \\mathbf{X} \\beta $$\n",
    "\n",
    "Here, $\\mathbf{X}$ is a design matrix which includes a column of ones, $\\beta$ are coefficients, and $\\mathbf{y}$ are outcomes.  Write a function `linearModelPredict` to compute linear model predictions given data and a coefficient vector.  The function should take as it's arguments a 1d-array of coefficients `b` and the design matrix `X` as a 2d-array and return linear model predictions `yp`.\n",
    "\n",
    "Test the function by setting \n",
    "\n",
    "```\n",
    "X = np.array([[1,0],[1,-1],[1,2]])\n",
    "b = np.array([0.1,0.3])\n",
    "```\n",
    "and call you function with these values! \n",
    "\n",
    "Report $\\hat{\\mathbf{y}}$. \n",
    "What is the dimensionality of the numpy-array that you get back? \n",
    "\n",
    "Hint:  Read the documentation for `np.dot` or the `@` operator in `numpy`."
   ]
  },
  {
   "cell_type": "code",
   "execution_count": 20,
   "metadata": {},
   "outputs": [
    {
     "name": "stdout",
     "output_type": "stream",
     "text": [
      "1D Array:\n",
      "The dot product of X and b is  [ 0.1 -0.2  0.7]\n",
      "\n",
      "2D Array:\n",
      "X is:  [[2. 0.]\n",
      " [0. 2.]]\n",
      "b is:  [[5.]\n",
      " [5.]]\n",
      "The dot product of X and b is [[10.]\n",
      " [10.]]\n"
     ]
    }
   ],
   "source": [
    "def linearModelPredict(b,X):\n",
    "    yp = X@b #Used X@b instead of np.dot because it works better with 2d arrays\n",
    "    return yp\n",
    "\n",
    "#Testing the function with a 1d array\n",
    "X = np.array([[1,0],[1,-1],[1,2]])\n",
    "b = np.array([0.1,0.3])\n",
    "dotProd = linearModelPredict(b,X) #Calling the function and storing it in a variable\n",
    "print(\"1D Array:\")\n",
    "print(\"The dot product of X and b is \", dotProd)\n",
    "\n",
    "#Testing with a 2d array\n",
    "print(\"\\n2D Array:\")\n",
    "X = 2*np.eye(2)#np.eye creates a 2d array\n",
    "b = 5*np.ones((2,1)) #Returns a new 2d array filled with 5's (since I multiplied it by 5)\n",
    "\n",
    "print(\"X is: \",X) #Printing the arrays just to see what they look like\n",
    "print(\"b is: \",b)\n",
    "dotProd = linearModelPredict(b,X) #Calling function and storing the result in a variable\n",
    "print(\"The dot product of X and b is\", dotProd)"
   ]
  },
  {
   "cell_type": "markdown",
   "metadata": {},
   "source": [
    "### Question 1.3: /15 points\n",
    "\n",
    "Write a function `linearModelLossRSS` which computes and returns the loss function for an OLS model parameterized by $\\beta$, as well as the gradient of the loss.  The function should take as its first argument a 1d-array `beta` of coefficients for the linear model, as its second argument the design matrix `X` as a 2d-array, and as its third argument a 1d-array `y` of observed outcomes.\n",
    "\n",
    "Test the function with the values \n",
    "\n",
    "```\n",
    "X = np.array([[1,0],[1,-1],[1,2]])\n",
    "b = np.array([0.1,0.3])\n",
    "y = np.array([0,0.4,2]) \n",
    "```\n",
    "\n",
    "Report RSS and gradient. \n",
    "Written answer: To minimize the cost do you need increase or decrease the value of the parameters? "
   ]
  },
  {
   "cell_type": "code",
   "execution_count": 32,
   "metadata": {},
   "outputs": [
    {
     "name": "stdout",
     "output_type": "stream",
     "text": [
      "The Residual Sum of Squares is  2.06\n",
      "The Gradient is  [-3.6 -4. ]\n"
     ]
    }
   ],
   "source": [
    "def linearModelLossRSS(b,X,y):\n",
    "    #Can use the function created in the previous question to make a linear model prediction\n",
    "    linearPrediction = linearModelPredict(b,X)\n",
    "    \n",
    "    #Now, we can use this prediction to find the residuals with the new y parameter\n",
    "    residual = y - linearPrediction\n",
    "    \n",
    "    #Finding the residual sum of squares\n",
    "    RSS = 0 \n",
    "    for x in residual:\n",
    "        RSS = RSS+(x**2) #squaring the residual to make it a residual sum of squares\n",
    "    \n",
    "    #Using the dot product operator for the gradient    \n",
    "    gradient=(residual@X)*(-2)\n",
    "    \n",
    "    return (RSS, gradient)\n",
    "\n",
    "X = np.array([[1,0],[1,-1],[1,2]])\n",
    "b = np.array([0.1,0.3])\n",
    "y = np.array([0,0.4,2]) \n",
    "\n",
    "ResidualSumOfSquares, Gradient = linearModelLossRSS(b,X,y) #Calling the function\n",
    "print(\"The Residual Sum of Squares is \", ResidualSumOfSquares)\n",
    "print(\"The Gradient is \", Gradient)\n",
    "        "
   ]
  },
  {
   "cell_type": "markdown",
   "metadata": {},
   "source": [
    "Written answer: Both parameters need to be increased since their gradient is negative."
   ]
  },
  {
   "cell_type": "markdown",
   "metadata": {},
   "source": [
    "### Question 1.4:  /15 points. \n",
    "\n",
    "Now that you've implemented a loss function in question 3, it is now time to minimize it!\n",
    "\n",
    "Write a function `linearModelFit` to fit a linear model.  The function should take as its first argument the design matrix `X` as a 2d-array, as its second argument a 1d-array `y` of outcomes, and as its third argument a function  `lossfcn` which returns as a tuple the value of the loss, as well as the gradient of the loss. As a result, it should return the estimated betas and the R2. \n",
    "\n",
    "Test the function with the values: \n",
    "```\n",
    "X = np.array([[1,0],[1,-1],[1,2]])\n",
    "b = np.array([0.1,0.3])\n",
    "y = np.array([0,0.4,2]) \n",
    "```\n",
    "\n",
    "Report best parameters and the fitted R2. \n"
   ]
  },
  {
   "cell_type": "code",
   "execution_count": 46,
   "metadata": {},
   "outputs": [
    {
     "name": "stdout",
     "output_type": "stream",
     "text": [
      "The betas are:  [0.6 0.6]\n",
      "The residual squared is:  0.75\n"
     ]
    }
   ],
   "source": [
    "def linearModelFit(X,y,lossfcn = linearModelLossRSS):\n",
    "    #using .shape to find the number of rows and columns\n",
    "    numCols = np.shape(X)[1]\n",
    "    #using the number of columns to find the size of the betas (using a 2d array)\n",
    "    betas=np.zeros((numCols,1))\n",
    "    \n",
    "    #Optimizing the loss by passing in the loss function, parameters, design matrix, training data and then computing the gradient\n",
    "    OptimizeLoss = so.minimize(lossfcn,betas,args=(X,y),jac=True)\n",
    "    #This minimizes the residual, because we want to reduce the loss between y and y-predicted\n",
    "    \n",
    "    estBetas = OptimizeLoss.x #.x to get the result array\n",
    "    \n",
    "    #Using the mean of y instead for the residuals to find TSS\n",
    "    res = y-np.mean(y)\n",
    "    TSS = 0\n",
    "    for x in res:\n",
    "        TSS = TSS+(x**2) #squaring the residual to make it a total sum of squares\n",
    "    RSS,gradient = linearModelLossRSS(estBetas,X,y) #Getting the RSS and the gradient\n",
    "    \n",
    "    R2 = 1-RSS/TSS #Residual squared will tell us how much is lost because we are comparing the RSS and the TSS\n",
    "    return (estBetas, R2)\n",
    "\n",
    "X = np.array([[1,0],[1,-1],[1,2]])\n",
    "b = np.array([0.1,0.3])\n",
    "y = np.array([0,0.4,2]) \n",
    "returnedBetas , R2 = linearModelFit(X,y)\n",
    "\n",
    "print(\"The betas are: \", returnedBetas)\n",
    "print(\"The residual squared is: \", R2)    \n"
   ]
  },
  {
   "cell_type": "markdown",
   "metadata": {},
   "source": [
    "# Question 1.5: /15 points\n",
    "\n",
    "Use the above functions to fit your model to the possum data. Then use your model and the fitted parameters to make predictions along a grid of equally spaced possum ages.  \n",
    "\n",
    "Plot the data and add a line for the predicted values. You can get these by generating a new X-matrix with equally space ages (using for example np.linspace). Also report the R2 value for the fit. \n",
    "\n"
   ]
  },
  {
   "cell_type": "code",
   "execution_count": 76,
   "metadata": {},
   "outputs": [
    {
     "data": {
      "text/plain": [
       "Text(0.35, 0.9, 'R Squared: 0.22286587947604086')"
      ]
     },
     "execution_count": 76,
     "metadata": {},
     "output_type": "execute_result"
    },
    {
     "data": {
      "image/png": "[encoded data removed]",
      "text/plain": [
       "<Figure size 660x440 with 1 Axes>"
      ]
     },
     "metadata": {
      "needs_background": "light"
     },
     "output_type": "display_data"
    }
   ],
   "source": [
    "age = possum_data.age.values\n",
    "y = possum_data.tailL.values #training data\n",
    "numRecords = age.size #getting the number of records in order to find X\n",
    "X = np.c_[np.ones(numRecords), age] #X represents how age affects the tail length\n",
    "betas, R2 = linearModelFit(X,y) #getting the betas and the residual squared\n",
    "\n",
    "#using linspace to create training data, trying to find 10 equally spaced values from the min to max\n",
    "datagrid = np.linspace(age.min(), age.max(),10)\n",
    "#taking this data grid and turning it into a design matrix\n",
    "Xnew = np.c_[np.ones(datagrid.size), datagrid]\n",
    "Ynew = linearModelPredict(betas, Xnew)#Plug design matrix into function from before to get predictions\n",
    "\n",
    "#creating the figure and the axis, basically the same as the first question\n",
    "figure, axis = plt.subplots(dpi = 110)\n",
    "possum_data.plot.scatter(x='age', y='tailL', alpha=0.8, ax=axis)#alpha 0.8 because data points overlap\n",
    "axis.set_ylabel('Tail Length of Possums')\n",
    "axis.set_xlabel('Age of Possums')\n",
    "axis.plot(datagrid, Ynew)\n",
    "#Showing r squared on the screen\n",
    "axis.annotate('R Squared: {R2}'.format(R2=R2), xy=(0.35, 0.9), xycoords='axes fraction',ha='center')"
   ]
  },
  {
   "cell_type": "markdown",
   "metadata": {},
   "source": [
    "## Part 2: LAD Regression\n",
    "\n",
    "### Question 2.1:  /15 points\n",
    "\n",
    "In the previous section, we worked with the squared loss.  Now, we'll implement a linear model with least absolute deviation loss.\n",
    "\n",
    "Write a function `linearModelLossLAD` which computes the least absolute deviation loss function for a linear model  parameterized by $\\beta$, as well as the gradient of the loss.  The function should take as its first argument a 1d-array `beta` of coefficients for the linear model, as its second argument the design matrix `X` as a 2d-array, and as its third argument a 1d-array `y` of observed outcomes.\n",
    "\n",
    "Test the function with the values \n",
    "\n",
    "```\n",
    "X = np.array([[1,0],[1,-1],[1,2]])\n",
    "b = np.array([0.1,0.3])\n",
    "y = np.array([0,0.4,2]) \n",
    "```\n",
    "\n",
    "Report RSS and gradient. "
   ]
  },
  {
   "cell_type": "code",
   "execution_count": 80,
   "metadata": {},
   "outputs": [
    {
     "name": "stdout",
     "output_type": "stream",
     "text": [
      "The LAD is: 2.0\n",
      "The gradient is:  [-1. -1.]\n"
     ]
    }
   ],
   "source": [
    "def linearModelLossLAD(b,X,y):\n",
    "    #Same as previous questions\n",
    "    linearPrediction = linearModelPredict(b,X)\n",
    "    residual = y - linearPrediction\n",
    "    #getting the sum of the absolute value of the residuals\n",
    "    sumAbsolute = 0\n",
    "    for x in residual:\n",
    "        sumAbsolute = sumAbsolute + (abs(x))\n",
    "    #getting the sign residuals \n",
    "    signResidual = np.sign(residual)\n",
    "    #getting the gradient by using a dot product of the sign residuals and X\n",
    "    gradient =-(signResidual@X)\n",
    "    \n",
    "    return (sumAbsolute, gradient)\n",
    "\n",
    "X = np.array([[1,0],[1,-1],[1,2]])\n",
    "b = np.array([0.1,0.3])\n",
    "y = np.array([0,0.4,2]) \n",
    "LAD, gradient =linearModelLossLAD(b,X,y) #calling the function\n",
    "\n",
    "print(\"The LAD is:\", LAD)\n",
    "print(\"The gradient is: \", gradient)"
   ]
  },
  {
   "cell_type": "markdown",
   "metadata": {},
   "source": [
    "### Question 2.2: /10 points\n",
    "\n",
    "\n",
    "Use the above functions to fit your LAD model. Use your model to make predictions along a grid of equally spaced possum ages.  Once fit, the code below will plot the fit.  The code will also print the R squared value on the plot.\n",
    "\n",
    "Written answer: What is the difference in the fit obtained with an L1 as compared to the L2 cost function? Which one has a higher R2 value? Why?  \n",
    "\n",
    "Note: If you recieve an error from the optimizer, it may be because the loss function for the LAD model is not differentiable at its minimum.  This will lead to some gradient based optimiers to fail to converge.  If this happens to you then pass `method=\"Powell\"` to `scipy.optimize.minimize`.\n",
    "\n"
   ]
  },
  {
   "cell_type": "code",
   "execution_count": 85,
   "metadata": {},
   "outputs": [
    {
     "data": {
      "text/plain": [
       "Text(0.35, 0.9, 'R Squared: 0.12937096211204158')"
      ]
     },
     "execution_count": 85,
     "metadata": {},
     "output_type": "execute_result"
    },
    {
     "data": {
      "image/png": "[encoded data removed]",
      "text/plain": [
       "<Figure size 660x440 with 1 Axes>"
      ]
     },
     "metadata": {
      "needs_background": "light"
     },
     "output_type": "display_data"
    }
   ],
   "source": [
    "#same steps as 1.5\n",
    "age = possum_data.age.values\n",
    "y = possum_data.tailL.values\n",
    "numRecords = age.size\n",
    "X = np.c_[np.ones(numRecords), age]\n",
    "#using linearModelLossLAD instead of linearModelLossRSS so that both lines can be compared later\n",
    "betas, R2 = linearModelFit(X, y, lossfcn=linearModelLossLAD) #getting betas and the residual squared\n",
    "\n",
    "datagrid = np.arange(age.min(), age.max()+1) #using np.arange to return evenly spaced values within the min and max ages\n",
    "#taking this data grid and turning it into a design matrix\n",
    "Xnew = np.c_[np.ones(datagrid.size), datagrid]\n",
    "Ynew = linearModelPredict(betas, Xnew)#Plug design matrix into function from before to get predictions\n",
    "\n",
    "#same steps for plotting as before as 1.5\n",
    "figure,axis = plt.subplots(dpi = 110)\n",
    "possum_data.plot.scatter(x='age', y='tailL', alpha=0.8, ax=axis)#alpha 0.8 because data points overlap\n",
    "axis.set_ylabel('Tail Length of Possums')\n",
    "axis.set_xlabel('Age of Possums')\n",
    "axis.plot(datagrid, Ynew)\n",
    "#Showing r squared on the screen\n",
    "axis.annotate('R Squared: {R2}'.format(R2=R2), xy=(0.35, 0.9), xycoords='axes fraction',ha='center')"
   ]
  },
  {
   "cell_type": "markdown",
   "metadata": {},
   "source": [
    "Written answer: The R2 value is higher with the OLS because OLS minimized the RSS, which makes R2 greater. In addition, LAD seems to be more unaffected by the outlier at the top of the graph in comparison to OLS."
   ]
  },
  {
   "cell_type": "markdown",
   "metadata": {},
   "source": [
    "### Question 2.3: /15 points\n",
    "\n",
    "Fit both an OLS model and a LAD model with `statsmodels`.  In no more than two sentences, comment on the rsquared values from `statsmodels` and the rsquared values from your models. Are they similar?"
   ]
  },
  {
   "cell_type": "code",
   "execution_count": 96,
   "metadata": {},
   "outputs": [
    {
     "name": "stdout",
     "output_type": "stream",
     "text": [
      "OLS rsquared value:  0.2228658794760413\n",
      "LAD rsquared value:  nan\n",
      "Therefore, the OLS rsquared value and the LAD rsquared value are different\n"
     ]
    },
    {
     "data": {
      "text/plain": [
       "<matplotlib.legend.Legend at 0x256b660afa0>"
      ]
     },
     "execution_count": 96,
     "metadata": {},
     "output_type": "execute_result"
    },
    {
     "data": {
      "image/png": "[encoded data removed]",
      "text/plain": [
       "<Figure size 660x440 with 1 Axes>"
      ]
     },
     "metadata": {
      "needs_background": "light"
     },
     "output_type": "display_data"
    }
   ],
   "source": [
    "#getting the fit for OLS statsmodel\n",
    "OLSf = smf.ols('tailL~age', data = possum_data).fit()\n",
    "#getting the fit for LAD statsmodel\n",
    "LADf = smf.quantreg('tailL~age', data = possum_data).fit(q = 0.5)\n",
    "\n",
    "#printing the results\n",
    "print('OLS rsquared value: ', OLSf.rsquared)\n",
    "print('LAD rsquared value: ', LADf.rsquared)\n",
    "print('Therefore, the OLS rsquared value and the LAD rsquared value are different')\n",
    "\n",
    "#returning evenly spaced numbers over this interval\n",
    "possumAge = np.linspace(0,10,100,endpoint=True)\n",
    "#creating a new dataframe using pandas to show my model the same data\n",
    "DataF = pd.DataFrame({'age':possumAge})\n",
    "#using the fits calculated earlier to make predictions based on the new dataframe\n",
    "OLS = OLSf.predict(DataF).values\n",
    "LAD = LADf.predict(DataF).values\n",
    "\n",
    "#same plotting steps as before roughly\n",
    "figure,axis = plt.subplots(dpi = 110)\n",
    "possum_data.plot.scatter(x='age', y='tailL', alpha=0.8, ax=axis)#alpha 0.8 because data points overlap\n",
    "axis.set_ylabel('Tail Length of Possums')\n",
    "axis.set_xlabel('Age of Possums')\n",
    "#plotting the OLS Line\n",
    "axis.plot(possumAge, OLS, color = \"orange\", label = \"OLS\")\n",
    "#plotting the LAD line\n",
    "axis.plot(possumAge, LAD, color = \"green\", label = \"LAD\")\n",
    "#creating a legend to differentiate visually between the lines\n",
    "axis.legend()"
   ]
  },
  {
   "cell_type": "code",
   "execution_count": null,
   "metadata": {},
   "outputs": [],
   "source": []
  }
 ],
 "metadata": {
  "kernelspec": {
   "display_name": "Python 3",
   "language": "python",
   "name": "python3"
  },
  "language_info": {
   "codemirror_mode": {
    "name": "ipython",
    "version": 3
   },
   "file_extension": ".py",
   "mimetype": "text/x-python",
   "name": "python",
   "nbconvert_exporter": "python",
   "pygments_lexer": "ipython3",
   "version": "3.8.3"
  }
 },
 "nbformat": 4,
 "nbformat_minor": 4
}
